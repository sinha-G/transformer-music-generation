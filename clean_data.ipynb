{
 "cells": [
  {
   "cell_type": "markdown",
   "metadata": {},
   "source": [
    "<h1> Setup </h1>"
   ]
  },
  {
   "cell_type": "code",
   "execution_count": 1,
   "metadata": {},
   "outputs": [],
   "source": [
    "from Levenshtein import distance\n",
    "from data_utils import read_abc\n",
    "from glob import glob\n",
    "from tqdm import tqdm\n",
    "from pathlib import Path"
   ]
  },
  {
   "cell_type": "markdown",
   "metadata": {},
   "source": [
    "<h1> Helper Functions </h1>"
   ]
  },
  {
   "cell_type": "code",
   "execution_count": 2,
   "metadata": {},
   "outputs": [],
   "source": [
    "def bars_similiarity(bar1, bar2):\n",
    "    \"\"\"Calculates similarity based on Levenshtein distance between notes in bars.\"\"\"\n",
    "    # Handle potential empty bars to avoid division by zero\n",
    "    if not bar1 or not bar2:\n",
    "        return 1.0 # Assign maximum distance (least similarity) if a bar is empty\n",
    "\n",
    "    distances = []\n",
    "    for n1 in bar1:\n",
    "        # Ensure n1 is not empty before calculating length\n",
    "        len_n1 = len(n1) if n1 else 0\n",
    "        min_dist = 1.0 # Initialize with max distance\n",
    "        for n2 in bar2:\n",
    "            # Ensure n2 is not empty\n",
    "            len_n2 = len(n2) if n2 else 0\n",
    "            # Avoid division by zero if both notes are empty strings\n",
    "            denominator = len_n1 + len_n2\n",
    "            if denominator == 0:\n",
    "                 # If both n1 and n2 are empty, distance is 0, similarity is high (1.0 - 0.0)\n",
    "                 # but let's consider them dissimilar in context of musical content\n",
    "                 dist = 1.0\n",
    "            else:\n",
    "                 dist = distance(n1, n2) / denominator\n",
    "            if dist < min_dist:\n",
    "                min_dist = dist\n",
    "        distances.append(min_dist)\n",
    "\n",
    "    # Avoid division by zero if distances list is empty (shouldn't happen if bar1 wasn't empty)\n",
    "    return sum(distances) / len(distances) if distances else 1.0\n",
    "\n",
    "\n",
    "def get_num_repeats(bars):\n",
    "    \"\"\"Counts the number of non-consecutive identical bars.\"\"\"\n",
    "    num_repeats = 0\n",
    "    for i in range(len(bars)):\n",
    "        for j in range(i + 1, len(bars)):\n",
    "            if bars[i] == bars[j]:\n",
    "                num_repeats += 1\n",
    "    return num_repeats\n",
    "\n",
    "\n",
    "def is_rest_bar(bar_string):\n",
    "    \"\"\"Checks if a bar string consists only of rests (z, x, Z) and duration digits, ignoring spaces.\"\"\"\n",
    "    cleaned_bar = bar_string.strip()\n",
    "    if not cleaned_bar:\n",
    "        return False # An empty string isn't a bar of rests\n",
    "    # Remove all spaces within the bar content\n",
    "    no_spaces_bar = \"\".join(cleaned_bar.split())\n",
    "    if not no_spaces_bar: # Handle case where bar was just spaces\n",
    "        return False\n",
    "    # Check if it contains at least one rest character\n",
    "    has_rest = any(c in 'zxZ' for c in no_spaces_bar)\n",
    "    # Check if it contains only rest characters ('z', 'x', 'Z') and digits\n",
    "    only_rests_and_digits = all(c in 'zxZ' or c.isdigit() for c in no_spaces_bar)\n",
    "    return has_rest and only_rests_and_digits"
   ]
  },
  {
   "cell_type": "markdown",
   "metadata": {},
   "source": [
    "<h1> Filtering </h1>"
   ]
  },
  {
   "cell_type": "code",
   "execution_count": null,
   "metadata": {},
   "outputs": [
    {
     "name": "stdout",
     "output_type": "stream",
     "text": [
      "Preprocessing data...\n"
     ]
    },
    {
     "name": "stderr",
     "output_type": "stream",
     "text": [
      "100%|██████████| 182000/182000 [21:01<00:00, 144.23it/s]"
     ]
    },
    {
     "name": "stdout",
     "output_type": "stream",
     "text": [
      "\n",
      "Processed 182000 input files.\n",
      "Generated 518951 cleaned files.\n"
     ]
    },
    {
     "name": "stderr",
     "output_type": "stream",
     "text": [
      "\n"
     ]
    }
   ],
   "source": [
    "input_dir = Path('trainset/abc')\n",
    "output_dir = Path('cleaned_data')\n",
    "\n",
    "output_dir.mkdir(exist_ok=True)\n",
    "file_index = 0\n",
    "\n",
    "# Rejection categories\n",
    "results = {\n",
    "    'no_valid_abc': 0,\n",
    "    'not_enough_bars': 0,\n",
    "    'chunk_incomplete': 0,\n",
    "    'contains_empty_bar': 0, \n",
    "    'too_many_repeats': 0,\n",
    "    'too_many_rests': 0,\n",
    "    'too_similar': 0,\n",
    "    'similarity_error': 0,\n",
    "    'accepted': 0\n",
    "}\n",
    "\n",
    "print(\"Preprocessing data...\")\n",
    "input_files = list(input_dir.glob(\"*.abc\"))\n",
    "\n",
    "for file_path in tqdm(input_files):\n",
    "    keys, abc_content = read_abc(file_path) # Use read_abc from data_utils\n",
    "\n",
    "    # Ensure both keys and musical content are present\n",
    "    if keys is None or abc_content is None or not abc_content.strip():\n",
    "        results['no_valid_abc'] += 1\n",
    "        continue\n",
    "\n",
    "    # read_abc should return notes joined, with spaces around '|'\n",
    "    # Split by ' | ' and filter out potential empty strings resulting from split\n",
    "    split_bars = [bar for bar in abc_content.split(' | ') if bar.strip()]\n",
    "\n",
    "    # Check if there are any bars left after filtering\n",
    "    if not split_bars:\n",
    "        results['no_valid_abc'] += 1\n",
    "        continue\n",
    "\n",
    "    # Process in 16-bar chunks (8 input, 8 target)\n",
    "    num_chunks = len(split_bars) // 16\n",
    "\n",
    "    if num_chunks == 0:\n",
    "        results['not_enough_bars'] += 1\n",
    "        continue\n",
    "\n",
    "    for chunk_idx in range(num_chunks):\n",
    "        start_idx = chunk_idx * 16\n",
    "        mid_idx = start_idx + 8\n",
    "        end_idx = mid_idx + 8\n",
    "\n",
    "        # The slicing automatically handles lists not perfectly divisible by 16,\n",
    "        # but we need exactly 8 bars for bar1 and bar2.\n",
    "        if end_idx > len(split_bars):\n",
    "             # This case should ideally be caught by num_chunks logic, but double-check\n",
    "             results['chunk_incomplete'] += 1\n",
    "             continue # Skip incomplete final chunk\n",
    "\n",
    "        bar1 = split_bars[start_idx : mid_idx]\n",
    "        bar2 = split_bars[mid_idx : end_idx]\n",
    "\n",
    "        # Verify we have exactly 8 bars in each part\n",
    "        if len(bar1) != 8 or len(bar2) != 8:\n",
    "            results['chunk_incomplete'] += 1\n",
    "            continue\n",
    "\n",
    "        # Explicitly check for empty strings within the selected bars (should be rare after initial filter)\n",
    "        if any(not bar for bar in bar1) or any(not bar for bar in bar2):\n",
    "             results['contains_empty_bar'] += 1\n",
    "             continue\n",
    "\n",
    "        rest_bar_count = sum(1 for bar in bar1 + bar2 if is_rest_bar(bar))\n",
    "        if rest_bar_count > 1:\n",
    "            results['too_many_rests'] += 1\n",
    "            continue\n",
    "\n",
    "        if get_num_repeats(bar2) > 4:\n",
    "            results['too_many_repeats'] += 1\n",
    "            continue\n",
    "\n",
    "        # Similarity check\n",
    "        if bars_similiarity(bar1, bar2) < 0.1:\n",
    "            results['too_similar'] += 1\n",
    "            continue\n",
    "\n",
    "        # --- Write Accepted Data ---\n",
    "        output_file_path = output_dir.joinpath(f\"{file_index}.abc\")\n",
    "        try:\n",
    "            with open(output_file_path, \"w\", encoding='utf-8') as f:\n",
    "                # Write keys (read_abc returns keys as a single space-separated string)\n",
    "                key_lines = keys.split(' ') # Split if multiple keys were joined\n",
    "                f.write(\"\\n\".join(key_lines) + \"\\n\")\n",
    "                # Write the 16 bars (bar1 + bar2), joined by ' | ' as expected by read_abc\n",
    "                f.write(\" | \".join(bar1 + bar2))\n",
    "            results['accepted'] += 1\n",
    "            file_index += 1\n",
    "        except Exception as e:\n",
    "            print(f\"Error writing file {output_file_path}: {e}\")\n",
    "            # Optionally remove the partially written file: os.remove(output_file_path)\n",
    "\n",
    "print(f\"\\nProcessed {len(input_files)} input files.\")\n",
    "print(f\"Generated {file_index} cleaned files.\")"
   ]
  },
  {
   "cell_type": "markdown",
   "metadata": {},
   "source": [
    "<h1> Results </h1>"
   ]
  },
  {
   "cell_type": "code",
   "execution_count": 4,
   "metadata": {},
   "outputs": [
    {
     "name": "stdout",
     "output_type": "stream",
     "text": [
      "\n",
      "Rejection/Acceptance Statistics:\n",
      "Total files read: 182000\n",
      "Files skipped (no valid ABC/keys): 1\n",
      "Files skipped (not enough bars for 1 chunk): 6672\n",
      "------------------------------\n",
      "Total 16-bar chunks considered: 964082\n",
      "Chunks rejected: 445131\n",
      "Chunks accepted: 518951\n",
      "------------------------------\n",
      "Rejection reasons for considered chunks:\n",
      "  chunk_incomplete: 0 (0.0% of rejections)\n",
      "  contains_empty_bar: 0 (0.0% of rejections)\n",
      "  too_many_repeats: 43213 (9.7% of rejections)\n",
      "  too_many_rests: 291577 (65.5% of rejections)\n",
      "  too_similar: 110341 (24.8% of rejections)\n",
      "  similarity_error: 0 (0.0% of rejections)\n"
     ]
    }
   ],
   "source": [
    "print(\"\\nRejection/Acceptance Statistics:\")\n",
    "total_processed_chunks = sum(v for k, v in results.items() if k != 'no_valid_abc' and k != 'not_enough_bars')\n",
    "total_rejected_chunks = total_processed_chunks - results['accepted']\n",
    "\n",
    "print(f\"Total files read: {len(input_files)}\")\n",
    "print(f\"Files skipped (no valid ABC/keys): {results['no_valid_abc']}\")\n",
    "print(f\"Files skipped (not enough bars for 1 chunk): {results['not_enough_bars']}\")\n",
    "print(\"-\" * 30)\n",
    "print(f\"Total 16-bar chunks considered: {total_processed_chunks}\")\n",
    "print(f\"Chunks rejected: {total_rejected_chunks}\")\n",
    "print(f\"Chunks accepted: {results['accepted']}\")\n",
    "print(\"-\" * 30)\n",
    "print(\"Rejection reasons for considered chunks:\")\n",
    "for reason, count in results.items():\n",
    "    # Exclude categories that apply before chunk processing\n",
    "    if reason not in ['no_valid_abc', 'not_enough_bars', 'accepted']:\n",
    "      if total_processed_chunks > 0:\n",
    "          percentage = (count / total_rejected_chunks) * 100 if total_rejected_chunks > 0 else 0\n",
    "          print(f\"  {reason}: {count} ({percentage:.1f}% of rejections)\")\n",
    "      else:\n",
    "          print(f\"  {reason}: {count}\")\n"
   ]
  }
 ],
 "metadata": {
  "kernelspec": {
   "display_name": "Python 3",
   "language": "python",
   "name": "python3"
  },
  "language_info": {
   "codemirror_mode": {
    "name": "ipython",
    "version": 3
   },
   "file_extension": ".py",
   "mimetype": "text/x-python",
   "name": "python",
   "nbconvert_exporter": "python",
   "pygments_lexer": "ipython3",
   "version": "3.11.0"
  }
 },
 "nbformat": 4,
 "nbformat_minor": 2
}
