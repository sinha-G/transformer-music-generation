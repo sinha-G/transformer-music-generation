{
 "cells": [
  {
   "cell_type": "code",
   "execution_count": null,
   "metadata": {},
   "outputs": [],
   "source": [
    "from data_utils import read_abc\n",
    "from model import get_model\n",
    "from train import get_training_files\n",
    "from tqdm import tqdm\n",
    "from pathlib import Path\n",
    "import torch\n",
    "import youtokentome as yttm\n",
    "from argparse import ArgumentParser"
   ]
  },
  {
   "cell_type": "code",
   "execution_count": null,
   "metadata": {},
   "outputs": [],
   "source": [
    "def predict_notes(model, tokenizer, keys, notes):\n",
    "    keys_tokens = tokenizer.encode(keys)\n",
    "    notes_tokens = tokenizer.encode(notes)\n",
    "    # print(f\"keys: {len(keys_tokens)}\")\n",
    "    print(f\"notes: {(notes)}\")\n",
    "\n",
    "    # TODO fix max length of transformer\n",
    "    if len(keys_tokens) + len(notes_tokens) > 510:\n",
    "        notes_tokens = notes_tokens[len(notes_tokens) - len(keys_tokens) - 510:]\n",
    "\n",
    "    context_tokens = [2] + keys_tokens + notes_tokens + [3]\n",
    "\n",
    "    context_tokens = torch.tensor(context_tokens, dtype=torch.long).unsqueeze(0)\n",
    "\n",
    "    if torch.cuda.is_available():\n",
    "        context_tokens = context_tokens.cuda()\n",
    "    \n",
    "    bad_words_ids = []\n",
    "    bad_words = [\"x8 | \"]\n",
    "    for w in bad_words:\n",
    "        bad_words_ids.append(tokenizer.encode(bad_words)[0])\n",
    "\n",
    "    gen_tokens = model.generate(input_ids=context_tokens, \n",
    "                                max_length=320, \n",
    "                                min_length=32,\n",
    "                                early_stopping=False,\n",
    "                                num_beams=1,\n",
    "                                do_sample=False,\n",
    "                                no_repeat_ngram_size=0,\n",
    "                                repetition_penalty=1.0,\n",
    "                                bos_token_id=2, \n",
    "                                eos_token_id=3,\n",
    "                                pad_token_id=0,\n",
    "                                )\n",
    "                                \n",
    "    gen_tokens = gen_tokens[0].tolist()\n",
    "\n",
    "    notes = tokenizer.decode(gen_tokens, ignore_ids=[0,1,2,3])[0]\n",
    "    notes = notes.replace(\" \", \"\").replace(\"|\", \"|\\n\")\n",
    "    \n",
    "    return notes\n",
    "\n",
    "def predict(model, tokenizer, text_path, output_dir):\n",
    "    keys, notes = read_abc(text_path)\n",
    "    new_path = output_dir.joinpath(text_path.name)\n",
    "\n",
    "    print(f\"keys: {keys}\")\n",
    "    print(f\"notes: {notes}\")\n",
    "\n",
    "    predicted_tokens = predict_notes(model, tokenizer, keys, notes)\n",
    "\n",
    "    with open(text_path) as f:\n",
    "        abc_text = f.read()\n",
    "\n",
    "    with open(new_path, \"w\") as f:\n",
    "        f.write(abc_text + predicted_tokens)\n",
    "\n",
    "    return new_path\n",
    "        \n"
   ]
  },
  {
   "cell_type": "code",
   "execution_count": null,
   "metadata": {},
   "outputs": [],
   "source": [
    "datapath = \"cleaned_data\"\n",
    "checkpoint = \"ABCModel/checkpoint-10000/pytorch_model.bin\"\n",
    "tokenizer = \"abc.yttm\"\n",
    "output_dir = \"predict_abc\"\n",
    "\n",
    "test_paths = get_training_files(datapath)[:10]\n",
    "\n",
    "tokenizer = yttm.BPE(tokenizer)\n",
    "model = get_model(tokenizer.vocab_size())\n",
    "checkpoint = torch.load(checkpoint, map_location=\"cpu\", weights_only=True)\n",
    "model.load_state_dict(checkpoint)\n",
    "if torch.cuda.is_available():\n",
    "    model = model.cuda()\n",
    "\n",
    "output_dir = Path(output_dir)\n",
    "output_dir.mkdir(exist_ok=True)"
   ]
  },
  {
   "cell_type": "code",
   "execution_count": null,
   "metadata": {},
   "outputs": [],
   "source": [
    "for p in test_paths:\n",
    "    abc_path = predict(model, tokenizer, p, output_dir)\n",
    "    print(abc_path)"
   ]
  }
 ],
 "metadata": {
  "kernelspec": {
   "display_name": "cuda",
   "language": "python",
   "name": "python3"
  },
  "language_info": {
   "codemirror_mode": {
    "name": "ipython",
    "version": 3
   },
   "file_extension": ".py",
   "mimetype": "text/x-python",
   "name": "python",
   "nbconvert_exporter": "python",
   "pygments_lexer": "ipython3",
   "version": "3.11.0"
  }
 },
 "nbformat": 4,
 "nbformat_minor": 2
}
